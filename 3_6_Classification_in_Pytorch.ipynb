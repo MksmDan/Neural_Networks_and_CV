{
 "cells": [
  {
   "cell_type": "code",
   "execution_count": 12,
   "metadata": {},
   "outputs": [],
   "source": [
    "import torch\n",
    "import random\n",
    "import numpy as np\n",
    "import sklearn.datasets\n",
    "from sklearn.model_selection import train_test_split\n",
    "import matplotlib.pyplot as plt\n",
    "%matplotlib inline"
   ]
  },
  {
   "cell_type": "code",
   "execution_count": 3,
   "metadata": {},
   "outputs": [],
   "source": [
    "\"\"\" Организуем воспроизводимость эксперимента\"\"\"\n",
    "\n",
    "random.seed(0)\n",
    "np.random.seed(0) \n",
    "torch.manual_seed(0)\n",
    "torch.cuda.manual_seed(0)\n",
    "torch.backends.cudnn.deterministic = True # Если обсчитываем на GPU, то детерминистичный режим обеспечит воспрозводимость"
   ]
  },
  {
   "cell_type": "code",
   "execution_count": 4,
   "metadata": {},
   "outputs": [
    {
     "data": {
      "text/plain": [
       "(178, 13)"
      ]
     },
     "execution_count": 4,
     "metadata": {},
     "output_type": "execute_result"
    }
   ],
   "source": [
    "\"\"\"Воспользуемся одним из стандартных датасетов библиотеки scikit_learn\"\"\"\n",
    "wine = sklearn.datasets.load_wine()\n",
    "wine.data.shape"
   ]
  },
  {
   "cell_type": "code",
   "execution_count": 5,
   "metadata": {},
   "outputs": [],
   "source": [
    "X_train, X_test, y_train, y_test = train_test_split( # Разобьем датасет на тестовую и трейновую часть\n",
    "    wine.data[:, :2], # Будем использовать только первые 2 колонки для удобства.\n",
    "    wine.target, # Вторым парметром передадим то что нужно предсказать\n",
    "    test_size = 0.3, # тестовая часть займет только 30 процентов от всей выборки \n",
    "    shuffle = True)"
   ]
  },
  {
   "cell_type": "code",
   "execution_count": 6,
   "metadata": {},
   "outputs": [],
   "source": [
    "\"\"\"Обернем наши холды в тензор\"\"\"\n",
    "X_train = torch.FloatTensor(X_train) # Для дробных чисел\n",
    "X_test = torch.FloatTensor(X_test)\n",
    "y_train = torch.LongTensor(y_train) # Для целых чисел\n",
    "y_test = torch.LongTensor(y_test)"
   ]
  },
  {
   "cell_type": "code",
   "execution_count": 7,
   "metadata": {},
   "outputs": [],
   "source": [
    "\"\"\"Создадим нейросеть, чтобы классифицировать вино\"\"\"\n",
    "class WineNet(torch.nn.Module):\n",
    "    def __init__(self, n_hidden_neurons):\n",
    "        super(WineNet, self).__init__()\n",
    "        \n",
    "        self.fc1 = torch.nn.Linear(2, n_hidden_neurons) # 1 слой: на входе 2 нейрона, на выходе n ## После нескольких экспериментов выяснилось, что 2 слоя слишком много для такой сети\n",
    "        self.activ1 = torch.nn.Sigmoid() # функция активации\n",
    "        self.fc2 = torch.nn.Linear(n_hidden_neurons, n_hidden_neurons) # 2 слой: на входе n нейронов, на выходе n нейронов\n",
    "        self.activ2 = torch.nn.Sigmoid()\n",
    "        self.fc3 = torch.nn.Linear(n_hidden_neurons, 3) # 3 слой: на входе n нейронов, на выходе 3 нейрона (так как три класса)\n",
    "        self.sm = torch.nn.Softmax(dim=1) # Считает вероятности классов (веоятность, что обьект принадлежит тому или иному классу)\n",
    "        \n",
    "    def forward(self, x): # Эта функция не считает софтмакс так как логарифм и экспонента уничтожат друг друга\n",
    "        x = self.fc1(x)\n",
    "        x = self.activ1(x)\n",
    "        x = self.fc2(x)\n",
    "        x = self.activ2(x)\n",
    "        x = self.fc3(x)\n",
    "        return x\n",
    "\n",
    "    def inference(self, x): # Функция считает форвард, а затем прогоняет ее через софтмакс, чтобы получать вероятности\n",
    "        x = self.forward(x)\n",
    "        x = self.sm(x)\n",
    "        return x\n",
    "    \n",
    "wine_net = WineNet(5)"
   ]
  },
  {
   "cell_type": "code",
   "execution_count": 8,
   "metadata": {},
   "outputs": [],
   "source": [
    "loss = torch.nn.CrossEntropyLoss() # Считаем функцию потерь\n",
    "\n",
    "optimizer = torch.optim.Adam(wine_net.parameters(), # считаем градиентные шаги\n",
    "                             lr=1.0e-3) # 0.001 - стандартное значение"
   ]
  },
  {
   "cell_type": "code",
   "execution_count": 9,
   "metadata": {},
   "outputs": [
    {
     "data": {
      "text/plain": [
       "array([2, 0, 1, 4, 3])"
      ]
     },
     "execution_count": 9,
     "metadata": {},
     "output_type": "execute_result"
    }
   ],
   "source": [
    "np.random.permutation(5) # создает эррей со случайно расположенными числами от 0 до n размера n-1 "
   ]
  },
  {
   "cell_type": "code",
   "execution_count": 10,
   "metadata": {},
   "outputs": [
    {
     "name": "stdout",
     "output_type": "stream",
     "text": [
      "tensor(0.4074)\n",
      "tensor(0.4074)\n",
      "tensor(0.4630)\n",
      "tensor(0.5000)\n",
      "tensor(0.4259)\n",
      "tensor(0.4074)\n",
      "tensor(0.5185)\n",
      "tensor(0.5185)\n",
      "tensor(0.4444)\n",
      "tensor(0.4259)\n",
      "tensor(0.5000)\n",
      "tensor(0.5370)\n",
      "tensor(0.5370)\n",
      "tensor(0.5370)\n",
      "tensor(0.7407)\n",
      "tensor(0.6852)\n",
      "tensor(0.6481)\n",
      "tensor(0.6852)\n",
      "tensor(0.6667)\n",
      "tensor(0.6852)\n",
      "tensor(0.6852)\n",
      "tensor(0.6852)\n",
      "tensor(0.7222)\n",
      "tensor(0.7037)\n",
      "tensor(0.7407)\n",
      "tensor(0.7593)\n",
      "tensor(0.7778)\n",
      "tensor(0.7963)\n",
      "tensor(0.8148)\n",
      "tensor(0.8148)\n",
      "tensor(0.8148)\n",
      "tensor(0.8148)\n",
      "tensor(0.8333)\n",
      "tensor(0.8148)\n",
      "tensor(0.8333)\n",
      "tensor(0.8333)\n",
      "tensor(0.8333)\n",
      "tensor(0.8333)\n",
      "tensor(0.8519)\n",
      "tensor(0.8519)\n",
      "tensor(0.8519)\n",
      "tensor(0.8519)\n",
      "tensor(0.8519)\n",
      "tensor(0.8519)\n",
      "tensor(0.8519)\n",
      "tensor(0.8519)\n",
      "tensor(0.8519)\n",
      "tensor(0.8519)\n",
      "tensor(0.8519)\n",
      "tensor(0.8519)\n"
     ]
    }
   ],
   "source": [
    "batch_size = 10 # разделим данные, по 10 частей в каждой части 1 \n",
    "\n",
    "for epoch in range(5000):\n",
    "    order = np.random.permutation(len(X_train)) # Случайно перемешаем индексы в датасете\n",
    "    for start_index in range(0, len(X_train), batch_size): # Каждую эпоху мы будем перемешивать датасет \n",
    "                                                            #и затем будем определять подмножества размера batch_size\n",
    "        optimizer.zero_grad()\n",
    "        \n",
    "        batch_indexes = order[start_index:start_index+batch_size] # Здесь определяются подмножества\n",
    "        \n",
    "        x_batch = X_train[batch_indexes] \n",
    "        y_batch = y_train[batch_indexes]\n",
    "        \n",
    "        preds = wine_net.forward(x_batch) # Пропустим все подмножество через нейросеть и получим предсказание\n",
    "        \n",
    "        loss_value = loss(preds, y_batch) # Посчитаем функцию потерь\n",
    "        loss_value.backward() # Посчитаем производную\n",
    "        \n",
    "        optimizer.step() # в конце делаем шаг градиентного спуска и повторяем все действия\n",
    "        \n",
    "    if epoch % 100 == 0: # Каждые сто эпох будем выводить метрику, чтобы слежить за результатами обучения \n",
    "        test_preds = wine_net.forward(X_test) # считаем форвард по тестовым данным \n",
    "        test_preds = test_preds.argmax(dim=1) # считаем предсказание. Чем выше argmax тем выше вероятность\n",
    "        print((test_preds == y_test).float().mean()) # Посчитаем какая доля максмимального argmax совпадает с максимальной вероятносстью"
   ]
  },
  {
   "cell_type": "code",
   "execution_count": 11,
   "metadata": {},
   "outputs": [
    {
     "name": "stderr",
     "output_type": "stream",
     "text": [
      "E:\\Anaconda\\lib\\site-packages\\torch\\functional.py:445: UserWarning: torch.meshgrid: in an upcoming release, it will be required to pass the indexing argument. (Triggered internally at  ..\\aten\\src\\ATen\\native\\TensorShape.cpp:2157.)\n",
      "  return _VF.meshgrid(tensors, **kwargs)  # type: ignore[attr-defined]\n",
      "E:\\Anaconda\\lib\\site-packages\\ipykernel_launcher.py:25: UserWarning: Creating a tensor from a list of numpy.ndarrays is extremely slow. Please consider converting the list to a single numpy.ndarray with numpy.array() before converting to a tensor. (Triggered internally at  ..\\torch\\csrc\\utils\\tensor_new.cpp:201.)\n"
     ]
    },
    {
     "data": {
      "image/png": "[encoded data removed]",
      "text/plain": [
       "<Figure size 720x576 with 1 Axes>"
      ]
     },
     "metadata": {
      "needs_background": "light"
     },
     "output_type": "display_data"
    }
   ],
   "source": [
    "\"\"\"Визуализируем результаты\"\"\"\n",
    "plt.rcParams['figure.figsize'] = (10, 8)\n",
    "\n",
    "n_classes = 3\n",
    "plot_colors = ['g', 'orange', 'black']\n",
    "plot_step = 0.02\n",
    "\n",
    "x_min, x_max = X_train[:, 0].min() - 1, X_train[:, 0].max() + 1\n",
    "y_min, y_max = X_train[:, 1].min() - 1, X_train[:, 1].max() + 1\n",
    "\n",
    "xx, yy =  torch.meshgrid(torch.arange(x_min, x_max, plot_step),\n",
    "                         torch.arange(y_min, y_max, plot_step))\n",
    "\n",
    "preds = wine_net.inference(\n",
    "    torch.cat([xx.reshape(-1, 1), yy.reshape(-1, 1)], dim=1))\n",
    "\n",
    "preds_class = preds.data.numpy().argmax(axis=1)\n",
    "preds_class = preds_class.reshape(xx.shape)\n",
    "plt.contourf(xx, yy, preds_class, cmap='Accent')\n",
    "\n",
    "for i, color in zip(range(n_classes), plot_colors):\n",
    "    indexes = np.where(y_train == i)\n",
    "    plt.scatter(X_train[indexes, 0], \n",
    "                X_train[indexes, 1], \n",
    "                c=color, \n",
    "                label=wine.target_names[i],\n",
    "                cmap='Accent')\n",
    "    plt.xlabel(wine.feature_names[0])\n",
    "    plt.ylabel(wine.feature_names[1])\n",
    "    plt.legend()"
   ]
  },
  {
   "cell_type": "code",
   "execution_count": null,
   "metadata": {},
   "outputs": [],
   "source": []
  }
 ],
 "metadata": {
  "kernelspec": {
   "display_name": "Python 3",
   "language": "python",
   "name": "python3"
  },
  "language_info": {
   "codemirror_mode": {
    "name": "ipython",
    "version": 3
   },
   "file_extension": ".py",
   "mimetype": "text/x-python",
   "name": "python",
   "nbconvert_exporter": "python",
   "pygments_lexer": "ipython3",
   "version": "3.7.6"
  }
 },
 "nbformat": 4,
 "nbformat_minor": 4
}
